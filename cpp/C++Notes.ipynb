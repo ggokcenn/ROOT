{
 "cells": [
  {
   "cell_type": "code",
   "execution_count": 1,
   "id": "0b191865-cce9-4e96-836c-8d39538f3bff",
   "metadata": {},
   "outputs": [],
   "source": [
    "//I will put all includes here\n",
    "#include <iostream>\n",
    "#include <string>// Include the string library\n",
    "#include <typeinfo>\n",
    "#include <cmath>\n",
    "#include <fstream> // allows us to work with files.\n",
    "#include <vector>// Include the vector library\n",
    "#include <list>// Include the list library\n",
    "#include <stack>// Include the stack library\n",
    "#include <queue>// Include the queue library\n",
    "#include <set>// Include the set library\n",
    "#include <map>// Include the map library\n",
    "#include <algorithm>  // Include the <algorithm> library\n",
    "\n",
    "using namespace std;"
   ]
  },
  {
   "attachments": {},
   "cell_type": "markdown",
   "id": "3cf9705f-c4e7-46e4-b9b2-f4c8a3c26c34",
   "metadata": {},
   "source": [
    "# C++ LEARNING\n",
    "I need to learn to C++ so I created a notebook that I can use like a dictionary. I checked essentiels and skipped some things that I feel familiar.\n",
    "\n",
    "#include <iostream> //is a header file library, Header files ass functionality to c++ programs. \n",
    "//Which is short for standard input / output streams\n",
    "\n",
    "using namespace std; //we can use the names for objects and variables from the standard library.\n",
    "\n",
    "int main() { //int main is a function, code inside bracket will be executed\n",
    "  cout << \"Hello World!\";//is an object used together with the insertion operator (<<) to output/print text.\n",
    "  return 0;// ends the main function.\n",
    "}"
   ]
  },
  {
   "cell_type": "markdown",
   "id": "ed8efdfa-079a-47d4-8aa7-429569efd369",
   "metadata": {},
   "source": [
    "Jupyter notebook run without main function so no need to add main function but in different environment main function may be needed."
   ]
  },
  {
   "cell_type": "code",
   "execution_count": 1,
   "id": "607b734e-eb9a-4832-b276-cab283af86fc",
   "metadata": {},
   "outputs": [
    {
     "name": "stdout",
     "output_type": "stream",
     "text": [
      "Hello There!"
     ]
    }
   ],
   "source": [
    "#include <iostream>\n",
    "using namespace std;\n",
    "cout<< \"Hello There!\";"
   ]
  },
  {
   "cell_type": "code",
   "execution_count": 3,
   "id": "ec8d47be-4179-47be-80ab-0c17554bb811",
   "metadata": {},
   "outputs": [
    {
     "name": "stdout",
     "output_type": "stream",
     "text": [
      "Hello, World!"
     ]
    }
   ],
   "source": [
    "#include <iostream> //without std\n",
    "std::cout << \"Hello, World!\";"
   ]
  },
  {
   "cell_type": "code",
   "execution_count": 4,
   "id": "c9602892-60b7-4979-9dd8-cf7e1d868496",
   "metadata": {},
   "outputs": [],
   "source": [
    "/*I can comment in \n",
    "multiple \n",
    "lines like that*/"
   ]
  },
  {
   "cell_type": "markdown",
   "id": "9c248d09-d380-4ce6-ac82-1c3993e7a184",
   "metadata": {},
   "source": [
    "### C ++ Variable Types"
   ]
  },
  {
   "cell_type": "code",
   "execution_count": 39,
   "id": "2b8bd680-e75c-4b55-a418-ac464eabdc89",
   "metadata": {},
   "outputs": [],
   "source": [
    "int myNum = 5;               // Integer (whole number without decimals)(2-4 bytes)\n",
    "double myFloatNum = 5.99;    // Floating point number (with decimals)(8 bytes)\n",
    "float myFloat= 0.5;          //Floating number (4 bytes)\n",
    "char myLetter = 'D';         // Character(1 byte)\n",
    "bool myBoolean = true;       // Boolean (true or false)(1 byte)\n",
    "float f1 = 35e3; //power of 10\n",
    "double d1 = 12E4;\n",
    "#include <string>// Include the string library\n",
    "string myText = \"Hello\";     // String (text)"
   ]
  },
  {
   "cell_type": "markdown",
   "id": "c5bf4aa9-0121-4bf3-9dbe-45e465c8b9a2",
   "metadata": {},
   "source": [
    "Float can have 6-8 digits after decimal point meanwhile double can have 15 digits."
   ]
  },
  {
   "cell_type": "code",
   "execution_count": 6,
   "id": "6e9ecc71-dfe8-458d-bcac-545eccdaff4e",
   "metadata": {},
   "outputs": [
    {
     "name": "stdout",
     "output_type": "stream",
     "text": [
      "I am 35 years old."
     ]
    }
   ],
   "source": [
    "int myAge = 35;\n",
    "cout << \"I am \" << myAge << \" years old.\";"
   ]
  },
  {
   "cell_type": "code",
   "execution_count": 7,
   "id": "b0dda2df-d0bf-40ef-8b51-ba6cfcad34ea",
   "metadata": {},
   "outputs": [
    {
     "name": "stdout",
     "output_type": "stream",
     "text": [
      "Type of the variable: i"
     ]
    }
   ],
   "source": [
    "//Type of the variable\n",
    "#include <typeinfo>\n",
    "int variable=5;\n",
    "cout << \"Type of the variable: \" << typeid(variable).name();\n"
   ]
  },
  {
   "cell_type": "code",
   "execution_count": 8,
   "id": "5feddbff-62da-4ad4-b164-f1cf8224393e",
   "metadata": {},
   "outputs": [],
   "source": [
    "const int myNum = 15; //myNum will always stay the same,read only"
   ]
  },
  {
   "cell_type": "code",
   "execution_count": 43,
   "id": "81cce09d-c161-4871-a0b7-596ed16a1fd6",
   "metadata": {},
   "outputs": [
    {
     "name": "stdin",
     "output_type": "stream",
     "text": [
      " hey\n"
     ]
    }
   ],
   "source": [
    "cin >> uin;"
   ]
  },
  {
   "cell_type": "code",
   "execution_count": 44,
   "id": "f3fbccee-ecff-4383-9c15-c4ae4aff828c",
   "metadata": {},
   "outputs": [
    {
     "name": "stdin",
     "output_type": "stream",
     "text": [
      " Reacher Child\n"
     ]
    }
   ],
   "source": [
    "string fullName;\n",
    "cin >> fullName;\n",
    "getline (cin, fullName);"
   ]
  },
  {
   "cell_type": "markdown",
   "id": "a99a812b-b919-4c60-8c2d-22950a7a6595",
   "metadata": {},
   "source": [
    "cin considers a space (whitespace, tabs, etc) as a terminating character, which means that it can only store a single word (even if you type many words).The getline() function reads a line of text."
   ]
  },
  {
   "cell_type": "markdown",
   "id": "22af3559-fc7e-4f23-888c-e8b0b7dea23b",
   "metadata": {},
   "source": [
    "### Operators\n",
    "- != not equal\n",
    "- \\>= greater than or equal\n",
    "- <= less than or equal\n",
    "- && logical AND   x < 5 &&  x < 10\n",
    "- || logical OR   x < 5 || x < 4\n",
    "- ! logical NOT   !(x < 5 && x < 10)"
   ]
  },
  {
   "cell_type": "code",
   "execution_count": 46,
   "id": "ce426142-e865-4603-aaf4-99bee731aa80",
   "metadata": {},
   "outputs": [
    {
     "name": "stdout",
     "output_type": "stream",
     "text": [
      "1"
     ]
    }
   ],
   "source": [
    "int x = 5;\n",
    "x &= 3;\n",
    "cout << x;"
   ]
  },
  {
   "cell_type": "markdown",
   "id": "fb965b2d-0939-4e1d-9963-26de4d49991a",
   "metadata": {},
   "source": [
    "Bitwise AND Operatörü: x &= 3; satırı, x değişkenine bitwise AND işlemi uygulayarak yeni bir değer atar. Bitwise AND işlemi, iki sayının ikilik (binary) karşılıklarını karşılaştırır ve ikisi de 1 ise 1 döner, aksi halde 0 döner. İşlemi adım adım inceleyelim:\n",
    "\n",
    "x'in ikilik karşılığı: 0101\n",
    "\n",
    "3'ün ikilik karşılığı: 0011\n",
    "\n",
    "0001 (sonuç = 1)"
   ]
  },
  {
   "cell_type": "markdown",
   "id": "44594a94-1f64-4697-9824-5638853c23c1",
   "metadata": {},
   "source": [
    "x |= 3;\n",
    "Bitwise OR Operatörü: x |= 3; satırı, x değişkenine bitwise OR işlemi uygulayarak yeni bir değer atar. Bitwise OR işlemi, iki sayının ikilik (binary) karşılıklarını karşılaştırır ve biri bile 1 ise 1 döner, aksi halde 0 döner. İşlemi adım adım inceleyelim:\n",
    "\n",
    "x'in ikilik karşılığı: 0101\n",
    "\n",
    "3'ün ikilik karşılığı: 0011\n",
    "\n",
    "0111 (sonuç = 7)"
   ]
  },
  {
   "cell_type": "markdown",
   "id": "b9fbd069-2447-4033-b8af-ccb18f3b999f",
   "metadata": {},
   "source": [
    "### Strings\n",
    "A string in C++ is actually an object,so we can perform certain operations on strings.\n",
    "string fullName = firstName.append(lastName);"
   ]
  },
  {
   "cell_type": "markdown",
   "id": "77ba85e7-4164-4c89-ac75-8e7d758a8d14",
   "metadata": {},
   "source": [
    "- at()  Returns an indexed character from a string\n",
    "- length()  Returns the length of a string\n",
    "- size()  Alias of length(). Returns the length of a string\n",
    "- max_size()  Returns the maximum length of a string\n",
    "- empty() Checks wheter a string is empty or not\n",
    "- append()  Appends a string (or a part of a string) to another string\n",
    "- substr()  Returns a part of a string from a start index (position) and length\n",
    "- find()  Returns the index (position) of the first occurrence of a string or character\n",
    "- rfind() Returns the index (position) of the last occurrence of a string or character\n",
    "- replace() Replaces a part of a string with another string\n",
    "- insert()  Inserts a string at a specified index (position)\n",
    "- erase() Removes characters from a string\n",
    "- compare() Compares two strings"
   ]
  },
  {
   "cell_type": "code",
   "execution_count": 49,
   "id": "964c27af-15e8-4c20-b720-2885f97aeed9",
   "metadata": {},
   "outputs": [
    {
     "name": "stdout",
     "output_type": "stream",
     "text": [
      "H"
     ]
    }
   ],
   "source": [
    "string myString = \"Hello\";\n",
    "cout << myString[0];"
   ]
  },
  {
   "cell_type": "markdown",
   "id": "b4763f6d-4c91-4066-b2c0-fd4ca6aba034",
   "metadata": {},
   "source": [
    "### Math\n",
    "https://www.w3schools.com/cpp/cpp_ref_math.asp"
   ]
  },
  {
   "cell_type": "code",
   "execution_count": 51,
   "id": "d90e1184-4018-40a0-90e8-2b3149fae9a8",
   "metadata": {},
   "outputs": [],
   "source": [
    "#include <cmath>\n",
    "max(5,10);\n",
    "min(5, 10);\n",
    "sqrt(64);\n",
    "round(2.6);\n",
    "log(2);"
   ]
  },
  {
   "cell_type": "markdown",
   "id": "3d68f76c-cf3d-4865-ab7c-74bca0d01d93",
   "metadata": {},
   "source": [
    "### IF ELSE STATEMENT\n",
    "- Use <span style=\"color: red;\">if</span> to specify a block of code to be executed, if a specified condition is true\n",
    "- Use <span style=\"color: red;\">else</span> to specify a block of code to be executed, if the same condition is false\n",
    "- Use <span style=\"color: red;\">else if</span> to specify a new condition to test, if the first condition is false\n",
    "- Use <span style=\"color: red;\">switch</span> to specify many alternative blocks of code to be executed"
   ]
  },
  {
   "cell_type": "code",
   "execution_count": 56,
   "id": "44acde88-7a62-40f1-82a1-eaf18407a51b",
   "metadata": {},
   "outputs": [
    {
     "name": "stdout",
     "output_type": "stream",
     "text": [
      "Old enough to vote!"
     ]
    }
   ],
   "source": [
    "int myAge = 27;\n",
    "int votingAge = 18;\n",
    "if (myAge >= votingAge) {\n",
    "  cout << \"Old enough to vote!\";\n",
    "} else {\n",
    "  cout << \"Not old enough to vote.\";\n",
    "}"
   ]
  },
  {
   "cell_type": "code",
   "execution_count": 60,
   "id": "0136be00-504f-4a1f-be0e-902f5abe558a",
   "metadata": {},
   "outputs": [],
   "source": [
    "if (1<2) {\n",
    "  // block of code to be executed if condition1 is true\n",
    "} else if (2<3) {\n",
    "  // block of code to be executed if the condition1 is false and condition2 is true\n",
    "} else {\n",
    "  // block of code to be executed if the condition1 is false and condition2 is false\n",
    "}"
   ]
  },
  {
   "cell_type": "markdown",
   "id": "13f165cf-3e77-48b0-b1e3-9e895f791427",
   "metadata": {},
   "source": [
    "### Ternary Operator\n",
    "It consists of three operands. It is a single line if else short hand.\n",
    "```\n",
    "variable= (condition) ? expressionTrue : expressionFalse;\n",
    "```"
   ]
  },
  {
   "cell_type": "code",
   "execution_count": 67,
   "id": "03991db4-4c0e-448e-86a7-8df66644b261",
   "metadata": {},
   "outputs": [
    {
     "name": "stdout",
     "output_type": "stream",
     "text": [
      "Old enough to vote!"
     ]
    }
   ],
   "source": [
    "string result = (myAge>=votingAge) ? \"Old enough to vote!\" : \"Not old enough to vote\";\n",
    "cout << result;"
   ]
  },
  {
   "cell_type": "markdown",
   "id": "7297d504-8ba3-4595-89ea-556ec8ca40c4",
   "metadata": {},
   "source": [
    " ```\n",
    "switch(expression) {\n",
    "  case x:\n",
    "    // code block\n",
    "    break;\n",
    "  case y:\n",
    "    // code block\n",
    "    break;\n",
    "  default:\n",
    "    // code block\n",
    "}\n",
    "```\n",
    "\n",
    "The default keyword specifies some code to run if there is no case match"
   ]
  },
  {
   "cell_type": "markdown",
   "id": "fba532b4-7c68-4cb0-9499-cbb3f8d98466",
   "metadata": {},
   "source": [
    "### LOOPS\n",
    "```\n",
    "while (condition) {\n",
    "  // code block to be executed\n",
    "}\n",
    "\n",
    "\n",
    "do {\n",
    "  // code block to be executed\n",
    "}\n",
    "while (condition);\n",
    "\n",
    "\n",
    "for (statement 1; statement 2; statement 3) {\n",
    "  // code block to be executed\n",
    "}\n",
    "```\n",
    "Statement 1 is executed (one time) before the execution of the code block.\n",
    "\n",
    "Statement 2 defines the condition for executing the code block.\n",
    "\n",
    "Statement 3 is executed (every time) after the code block has been executed.\n",
    "\n"
   ]
  },
  {
   "cell_type": "code",
   "execution_count": 70,
   "id": "93d5c062-ee04-4cec-b209-4d4292d91002",
   "metadata": {},
   "outputs": [
    {
     "name": "stdout",
     "output_type": "stream",
     "text": [
      "0\n",
      "1\n",
      "2\n",
      "3\n",
      "4\n",
      "10\n",
      "20\n",
      "30\n",
      "40\n",
      "50\n"
     ]
    }
   ],
   "source": [
    "for (int i = 0; i < 5; i++) {\n",
    "  cout << i << \"\\n\";\n",
    "}\n",
    "\n",
    "//for (type variableName : arrayName) {// code block to be executed}\n",
    "\n",
    "int myNumbers[5] = {10, 20, 30, 40, 50};\n",
    "for (int i : myNumbers) {\n",
    "  cout << i << \"\\n\";\n",
    "}"
   ]
  },
  {
   "cell_type": "markdown",
   "id": "6c43647a-f3fb-43d2-a179-6528e7737931",
   "metadata": {},
   "source": [
    "break;\n",
    "\n",
    "contininue; loop içinde kullanılabilir."
   ]
  },
  {
   "cell_type": "markdown",
   "id": "290b3863-15a0-40b4-b099-f72cd5e13860",
   "metadata": {},
   "source": [
    "### ARRAYS"
   ]
  },
  {
   "cell_type": "code",
   "execution_count": 72,
   "id": "2a11547b-5234-4f6b-97d5-3cd927ef8007",
   "metadata": {},
   "outputs": [],
   "source": [
    "string cars[] = {\"Volvo\", \"BMW\", \"Ford\"};\n",
    "string cars2[3];\n",
    "cars2[0] = \"Volvo\";\n",
    "cars2[1] = \"BMW\";\n",
    "cars2[2] = \"Ford\";"
   ]
  },
  {
   "cell_type": "markdown",
   "id": "e17075e5-fec1-4a7c-9d20-0797c221599f",
   "metadata": {},
   "source": [
    "No need to define size of the array when defining it in one line. However, if you add element later you need to define the size otherwise it doesn't work."
   ]
  },
  {
   "cell_type": "code",
   "execution_count": 79,
   "id": "0995043b-70e5-4749-9ee3-90a37c213c28",
   "metadata": {},
   "outputs": [
    {
     "name": "stdout",
     "output_type": "stream",
     "text": [
      "20"
     ]
    }
   ],
   "source": [
    "int sizenumbers;\n",
    "sizenumbers = sizeof(myNumbers); //return the size in bytes\n",
    "cout << sizenumbers;"
   ]
  },
  {
   "cell_type": "code",
   "execution_count": 80,
   "id": "968b1a95-b3ed-4525-9038-a3e747e7a499",
   "metadata": {},
   "outputs": [
    {
     "name": "stdout",
     "output_type": "stream",
     "text": [
      "5"
     ]
    }
   ],
   "source": [
    "int getArrayLength = sizeof(myNumbers) / sizeof(myNumbers[0]);\n",
    "cout << getArrayLength;"
   ]
  },
  {
   "cell_type": "markdown",
   "id": "a253b581-683d-4d98-b993-c5e703eede2e",
   "metadata": {},
   "source": [
    "Total size is calculated by multiplying elements size in bytes with number of elements, so if we divide total size with one elements size we can find the number of elements."
   ]
  },
  {
   "cell_type": "markdown",
   "id": "ab8650a4-c18e-4d2f-8ef0-654420fcd108",
   "metadata": {},
   "source": [
    "### STRUCTURE\n",
    "Unlike an array, a structure can contain many different data types (int, string, bool, etc.)."
   ]
  },
  {
   "cell_type": "code",
   "execution_count": 83,
   "id": "5fe72a18-5dc0-4838-9101-66a81834fc16",
   "metadata": {},
   "outputs": [],
   "source": [
    "struct {             // Structure declaration\n",
    "  int myNum;         // Member (int variable)\n",
    "  string myString;   // Member (string variable)\n",
    "} myStructure;       // Structure variable\n",
    "myStructure.myString = \"Hello World!\"; //use dot to access members\n",
    "\n",
    "struct {\n",
    "  string brand;\n",
    "  string model;\n",
    "  int year;\n",
    "}myCar1, myCar2; // We can add variables by separating them with a comma here\n",
    "\n",
    "// Put data into the first structure\n",
    "myCar1.brand = \"BMW\";\n",
    "myCar1.model = \"X5\";\n",
    "myCar1.year = 1999;\n",
    "\n",
    "struct myDataType { // This structure is named \"myDataType\"\n",
    "  int myNum;\n",
    "  string myString;\n",
    "};\n",
    "\n",
    "struct car {\n",
    "  string brand;\n",
    "  string model;\n",
    "  int year;\n",
    "};\n",
    "car myCar3;\n",
    "myCar3.brand = \"BMW\";\n",
    "myCar3.model = \"X5\";\n",
    "myCar3.year = 1999;"
   ]
  },
  {
   "cell_type": "markdown",
   "id": "64bdc326-e13f-445f-8ceb-7d83409ba717",
   "metadata": {},
   "source": [
    "### ENUM:enumarations\n",
    "Each item need to written uppercase and need to be seperated by comma. By default first item has value 0, next is 1 etc. If you assign first one as 5 for ex. it will assign others accordingly.\n",
    "```\n",
    "enum Level {\n",
    "  LOW = 1,\n",
    "  MEDIUM,\n",
    "  HIGH\n",
    "};\n",
    "enum Level myVar = MEDIUM;\n",
    "```"
   ]
  },
  {
   "cell_type": "markdown",
   "id": "4a011a57-ad8e-4d1b-9db5-69a900211f7d",
   "metadata": {},
   "source": [
    "### REFERANCE\n",
    "A reference variable is a \"reference\" to an existing variable, and it is created with the & operator."
   ]
  },
  {
   "cell_type": "code",
   "execution_count": 84,
   "id": "9e5cb76c-d4c7-4e6e-86e1-492eea372291",
   "metadata": {},
   "outputs": [],
   "source": [
    "string food = \"Pizza\";\n",
    "string &meal = food;"
   ]
  },
  {
   "cell_type": "markdown",
   "id": "8e9b1113-a6be-4813-a895-cf87c4dd92e5",
   "metadata": {},
   "source": [
    "```\n",
    "cout << food << \"\\n\";  // Outputs Pizza\n",
    "cout << meal << \"\\n\";  // Outputs Pizza\n",
    "cout << &food; // Outputs 0x6dfed4\n",
    "```"
   ]
  },
  {
   "cell_type": "markdown",
   "id": "ac464791-c53d-4866-b559-3c0233c71d9e",
   "metadata": {},
   "source": [
    "We can get the memory address of the variable\n",
    "\n",
    "A pointer is a variable that stores the memory address as its value.\n",
    "```\n",
    "string* ptr = &food;\n",
    "```\n",
    "A pointer variable, with the name ptr, that stores the address of food. Use of * is obligatory. You need to chose the same variable type.\n",
    "\n",
    "```\n",
    "cout << *ptr ; //vice versa\n",
    "```"
   ]
  },
  {
   "cell_type": "markdown",
   "id": "4cd1c510-e5e7-4937-9dc0-359e89f33609",
   "metadata": {},
   "source": [
    "### FUNCTION \n",
    "```\n",
    "void myFunction() {\n",
    "  // code to be executed\n",
    "}//no return value\n",
    "myFunction();\n",
    "```\n",
    "Function can be defined before the main not inside. However, you can put declaration to above main and definition to below main to have a better organized code.\n",
    "```\n",
    "void myFunction();// Function declaration\n",
    "int main(){return 0;}\n",
    "void myFunction() {}// Function definition\n",
    "void myFunction(string fname, int age) {}\n",
    "```\n",
    "NOTE: When a parameter passed to function it is called argument.\n",
    "NOTE: A parameter with default value is known as optional parameter."
   ]
  },
  {
   "cell_type": "code",
   "execution_count": 99,
   "id": "52f4f244-afd4-4476-8ccc-d5f44e04e0fa",
   "metadata": {},
   "outputs": [],
   "source": [
    "int myFunction(int x) {\n",
    "  return 5 + x;\n",
    "}//Has return. Need to use data type instead of void"
   ]
  },
  {
   "cell_type": "markdown",
   "id": "be04adea-7047-49dc-bcf4-30aed4519b58",
   "metadata": {},
   "source": [
    "### OOP - OBJECT ORIENTED PROGRAMMING\n",
    "Procedural programming is about writing procedures or functions that perform operations on the data, while object-oriented programming is about creating objects that contain both data and functions.\n",
    "\n",
    "In real life car is an object, weight and color are attributes,drive and brake are methods."
   ]
  },
  {
   "cell_type": "code",
   "execution_count": 2,
   "id": "653da105-589a-4266-82ee-3febb3dc6461",
   "metadata": {},
   "outputs": [
    {
     "name": "stdout",
     "output_type": "stream",
     "text": [
      "15\n",
      "Some text"
     ]
    }
   ],
   "source": [
    "class MyClass {       // The class\n",
    "  public:             // Access specifier\n",
    "    int myNum;        // Attribute (int variable)\n",
    "    string myString;  // Attribute (string variable)\n",
    "};\n",
    "MyClass myObj;  // Create an object of MyClass\n",
    "// Access attributes and set values\n",
    "myObj.myNum = 15; \n",
    "myObj.myString = \"Some text\";\n",
    "\n",
    "// Print attribute values\n",
    "cout << myObj.myNum << \"\\n\";\n",
    "cout << myObj.myString;"
   ]
  },
  {
   "cell_type": "markdown",
   "id": "86fbdc5a-c3bc-4140-a998-64e22b549612",
   "metadata": {},
   "source": [
    "#### Class method\n",
    "You can define inside and outside the class\n",
    "If a function is defined inside a class you can access with a dot.\n",
    "If a funtion is defines outside a class ::(scope resolution operator) is need to use.\n",
    "\n",
    "```\n",
    "void MyClass::myMethod() {\n",
    "  cout << \"Hello World!\";\n",
    "}\n",
    "\n",
    "class Car {\n",
    "  public:\n",
    "    int speed(int maxSpeed);\n",
    "};\n",
    "\n",
    "int Car::speed(int maxSpeed) {\n",
    "  return maxSpeed;\n",
    "}\n",
    "\n",
    "int main() {\n",
    "  Car myObj; // Create an object of Car\n",
    "  cout << myObj.speed(200); // Call the method with an argument\n",
    "  return 0;\n",
    "}\n",
    "```"
   ]
  },
  {
   "cell_type": "markdown",
   "id": "a103d115-8da4-4235-a915-b99728e426ad",
   "metadata": {},
   "source": [
    "#### Constructer\n",
    "A special method that is automatically called when an object of a class is created.\n",
    "```\n",
    "class MyClass {     // The class\n",
    "  public:           // Access specifier\n",
    "    MyClass() {     // Constructor\n",
    "      cout << \"Hello World!\";\n",
    "    }\n",
    "};\n",
    "\n",
    "int main() {\n",
    "  MyClass myObj;    // Create an object of MyClass (this will call the constructor)\n",
    "  return 0;\n",
    "}\n",
    "\n",
    "//Constructer can be defined outside or inside. \n",
    "Car(string x, string y, int z) { // Constructor with parameters\n",
    "      brand = x;\n",
    "      model = y;\n",
    "      year = z;\n",
    "    } //inside\n",
    "\n",
    "Car::Car(string x, string y, int z) {\n",
    "  brand = x;\n",
    "  model = y;\n",
    "  year = z;\n",
    "}//outside\n",
    "\n",
    "Car carObj1(\"BMW\", \"X5\", 1999);//If defined in main \n",
    "cout << carObj1.brand //I can access with\n",
    "```"
   ]
  },
  {
   "cell_type": "markdown",
   "id": "6119ece7-6bfb-43e5-9e13-7095da2db6b8",
   "metadata": {},
   "source": [
    "#### Access specifier: if none default is private\n",
    "<span style=\"color: red;\">public</span> - members are accessible from outside the class\n",
    "\n",
    "<span style=\"color: red;\">private</span> - members cannot be accessed (or viewed) from outside the class\n",
    "\n",
    "<span style=\"color: red;\">protected</span> - members cannot be accessed from outside the class, however, they can be accessed in inherited classes.\n",
    "```\n",
    "class MyClass {\n",
    "  public:    // Public access specifier\n",
    "    int x;   // Public attribute\n",
    "  private:   // Private access specifier\n",
    "    int y;   // Private attribute\n",
    "};\n",
    "```"
   ]
  },
  {
   "cell_type": "markdown",
   "id": "9b4fca1e-d3a2-4067-b77b-ba2428d82bf4",
   "metadata": {},
   "source": [
    "#### Encapsulation\n",
    "to make sure that \"sensitive\" data is hidden from users.If you want others to read or modify the value of a private member, you can provide public get and set methods.\n",
    "```\n",
    "class Employee {\n",
    "  private:\n",
    "    int salary;\n",
    "\n",
    "  public:\n",
    "    void setSalary(int s) {\n",
    "      salary = s;\n",
    "    }\n",
    "    int getSalary() {\n",
    "      return salary;\n",
    "    }\n",
    "};\n",
    "```\n",
    "The public setSalary() method takes a parameter (s) and assigns it to the salary attribute (salary = s).\n",
    "\n",
    "The public getSalary() method returns the value of the private salary attribute. So now we can access the private."
   ]
  },
  {
   "cell_type": "markdown",
   "id": "1e765f39-0deb-46df-9c88-be59b8e12bad",
   "metadata": {},
   "source": [
    "#### Inheritance \n",
    "It is possible to inherit attributes and methods from one class to another.\n",
    "derived class (child) - the class that inherits from another class\n",
    "base class (parent) - the class being inherited from\n",
    "```\n",
    "// Base class\n",
    "class Vehicle {\n",
    "  public:\n",
    "    string brand = \"Ford\";\n",
    "    void honk() {\n",
    "      cout << \"Tuut, tuut! \\n\" ;\n",
    "    }\n",
    "};\n",
    "\n",
    "// Derived class\n",
    "class Car: public Vehicle {\n",
    "  public:\n",
    "    string model = \"Mustang\";\n",
    "};\n",
    "\n",
    "int main() {\n",
    "  Car myCar;\n",
    "  myCar.honk();//honk not in car but takes it from other one\n",
    "  cout << myCar.brand + \" \" + myCar.model;//took from both\n",
    "  return 0;\n",
    "}\n",
    "\n",
    "//several can be defined, or two of them can be combined.\n",
    "\n",
    "#include <iostream>\n",
    "using namespace std;\n",
    "\n",
    "// Base class\n",
    "class Mother {\n",
    "  public:\n",
    "    void myFunction() {\n",
    "      cout << \"Some content in parent class.\\n\" ;\n",
    "    }\n",
    "};\n",
    "\n",
    "// Another base class\n",
    "class Father {\n",
    "  public:\n",
    "    void myOtherFunction() {\n",
    "      cout << \"Some content in another class.\\n\" ;\n",
    "    }\n",
    "};\n",
    "\n",
    "// Derived class\n",
    "class MyChildClass: public Mother, public Father {\n",
    "};\n",
    "\n",
    "int main() {\n",
    "  MyChildClass myObj;\n",
    "  myObj.myFunction();\n",
    "  myObj.myOtherFunction();\n",
    "  return 0;\n",
    "}\n",
    "\n",
    "/*When accessing from one class to another, if the main class is \"private\", you cannot change the content. It must be \"protected\" or \"public\".*/"
   ]
  },
  {
   "cell_type": "markdown",
   "id": "1c7074a5-e092-417a-a351-16f09d28e344",
   "metadata": {},
   "source": [
    "### FILES\n",
    "```\n",
    "#include <fstream> // allows us to work with files.\n",
    "Writing file\n",
    "  // Create and open a text file\n",
    "  ofstream MyFile(\"filename.txt\");\n",
    "\n",
    "  // Write to the file\n",
    "  MyFile << \"Files can be tricky, but it is fun enough!\";\n",
    "\n",
    "  // Close the file\n",
    "  MyFile.close();\n",
    "Reading file\n",
    "  // Create a text string, which is used to output the text file\n",
    "string myText;\n",
    "\n",
    "// Read from the text file\n",
    "ifstream MyReadFile(\"filename.txt\");\n",
    "\n",
    "// Use a while loop together with the getline() function to read the file line by line\n",
    "while (getline (MyReadFile, myText)) {\n",
    "  // Output the text from the file\n",
    "  cout << myText;\n",
    "}\n",
    "\n",
    "// Close the file\n",
    "MyReadFile.close();\n",
    "```"
   ]
  },
  {
   "cell_type": "markdown",
   "id": "7a4d43e4-e075-4f1a-9264-84abef40d142",
   "metadata": {},
   "source": [
    "### TIME AND DATE"
   ]
  },
  {
   "cell_type": "code",
   "execution_count": 4,
   "id": "c7acf81c-73fe-413f-bb2a-ad7a590e5da7",
   "metadata": {},
   "outputs": [
    {
     "name": "stdout",
     "output_type": "stream",
     "text": [
      "Wed Feb 26 12:07:01 2025\n"
     ]
    }
   ],
   "source": [
    "#include <ctime> // Import the ctime library\n",
    "// Get the timestamp for the current date and time\n",
    "time_t timestamp;\n",
    "time(&timestamp);\n",
    "\n",
    "// Display the date and time represented by the timestamp\n",
    "cout << ctime(&timestamp);"
   ]
  },
  {
   "cell_type": "markdown",
   "id": "306d64d3-640d-43e7-8acf-aa06359ec860",
   "metadata": {},
   "source": [
    "## DATA STRUCTURES AND STL(Standard Template Library)\n",
    "Containers are data structures that provides a way to store data, like vectors, lists, etc.\n",
    "\n",
    "Iterators are objects used to access elements of a data structure.\n",
    "\n",
    "Algorithms include functions, like sort() and find(), that perform operations on data structures through iterators."
   ]
  },
  {
   "cell_type": "markdown",
   "id": "82adde3e-b637-4576-aa1e-dad09ffbc6c3",
   "metadata": {},
   "source": [
    "### Vector: \n",
    "Stores elements like an array but can dynamically change in size. Adding and removing of elements are usually done at the end. Elements can be accessed by index.\n",
    "```\n",
    "#include <vector>// Include the vector library\n",
    "vector<string> cars = {\"Volvo\", \"BMW\", \"Ford\", \"Mazda\"};//create a vector\n",
    "cout << cars[0];  // access elements\n",
    "cout << cars.at(1);//access elements\n",
    "cout << cars.front(); //get first element\n",
    "cout << cars.back(); //get last element\n",
    "cars[0] = \"Opel\"; //change an element\n",
    "cars.at(0) = \"Opel\"; //change an element\n",
    "cars.push_back(\"Tesla\"); //add an element(to end)\n",
    "cars.pop_back();//removes the last element\n",
    "cout << cars.size();  // size of vector\n",
    "cout << cars.empty(); //checks empty or not (1=empty)\n",
    "```"
   ]
  },
  {
   "cell_type": "markdown",
   "id": "8c6fad3c-b59d-4352-a1ff-210146569ef0",
   "metadata": {},
   "source": [
    "### List: \n",
    "Stores elements sequentially, where each element is connected to the next. Adding and removing of elements can be done at both ends. Not accessible by index.\n",
    "```\n",
    "#include <list>// Include the list library\n",
    "list<string> cars = {\"Volvo\", \"BMW\", \"Ford\", \"Mazda\"};\n",
    "cout << cars.front();//get first element\n",
    "cout << cars.back();//get last element you can also change these\n",
    "cars.push_front(\"Tesla\"); //add an element at the beginning\n",
    "cars.push_back(\"VW\");// Add an element at the end\n",
    "cars.pop_front();// Remove the first element\n",
    "cars.pop_back();// Remove the last element\n",
    "cout << cars.size();//size of list\n",
    "cout << cars.empty();//check if list is empty\n",
    "```"
   ]
  },
  {
   "cell_type": "markdown",
   "id": "5c63b163-34b3-43f9-8ef9-88e3e8ecf999",
   "metadata": {},
   "source": [
    "### Stack: \n",
    "Stores elements in a specific order, called LIFO (Last In, First Out), where elements can only be added and removed from the top. Not accessible by index.\n",
    "```\n",
    "#include <stack>// Include the stack library\n",
    "stack<string> cars;\n",
    "cars.push(\"Volvo\");// Add elements to the stack\n",
    "//you can not add element from the beginning like vectors. \n",
    "cout << cars.top();// Access the top element\n",
    "cars.top() = \"Tesla\";// Change the value of the top element\n",
    "cars.pop();//Remove the top element\n",
    "cout << cars.size(); //size of Stack\n",
    "cout << cars.empty(); //chech if stack is empty or not\n",
    "```"
   ]
  },
  {
   "cell_type": "markdown",
   "id": "0afbeeb2-2478-4a78-86b5-1deb5dd0bd30",
   "metadata": {},
   "source": [
    "### Queue: \n",
    "Stores elements in a specific order, called FIFO (First In, First Out), where elements are added at the end and removed from the front. Not accessible by index.\n",
    "```\n",
    "#include <queue>// Include the queue library\n",
    "queue<string> cars;// Create a queue of strings\n",
    "cars.push(\"Volvo\");// Add elements to the queue\n",
    "cout << cars.front();// Access the front element (first and oldest)\n",
    "cout << cars.back();// Access the back element (last and newest)\n",
    "cars.pop();// Remove the front element (Volvo)\n",
    "cout << cars.size();//size of queue\n",
    "cout << cars.empty();//chech is queue is empty\n",
    "```"
   ]
  },
  {
   "cell_type": "markdown",
   "id": "0f668584-2581-484f-9ee8-5a639986d22e",
   "metadata": {},
   "source": [
    "### Deque: \n",
    "Stores elements in a double-ended queue, where elements can be added and removed from both ends. Elements can be accessed by index.\n",
    "```\n",
    "deque<string> cars = {\"Volvo\", \"BMW\", \"Ford\", \"Mazda\"};// Create a deque \n",
    "cout << cars[0]; //access an element\n",
    "cout << cars.at(1); //access and element\n",
    "cout << cars.front();// Get the first element\n",
    "cout << cars.back();// Get the last element\n",
    "cars[0] = \"Opel\";//change an element\n",
    "cars.at(0) = \"Opel\";//change an element\n",
    "cars.push_front(\"Tesla\");// Add an element at the beginning\n",
    "cars.push_back(\"VW\");// Add an element at the end\n",
    "cars.pop_front();// Remove the first element\n",
    "cars.pop_back();// Remove the last element\n",
    "cout << cars.size();//size of deque\n",
    "cout << cars.empty();//chech if deque empty or not\n",
    "```"
   ]
  },
  {
   "cell_type": "markdown",
   "id": "56d1db07-f070-44d2-a726-8c447cc6642b",
   "metadata": {},
   "source": [
    "### Set: \n",
    "Stores unique elements. Not accessible by index.\n",
    "* Are sorted automatically in ascending order.\n",
    "* Are unique, meaning equal or duplicate values are ignored.\n",
    "* Can be added or removed, but the value of an existing element cannot be changed.\n",
    "```\n",
    "#include <set>// Include the set library\n",
    "set<string> cars = {\"Volvo\", \"BMW\", \"Ford\", \"Mazda\"};\n",
    "set<type,greater<type>> name = {,,};//you can sort in ascending order\n",
    "cars.insert(\"Tesla\");// Add new elements\n",
    "cars.erase(\"Volvo\");// Remove elements\n",
    "cars.clear();// Remove all elements\n",
    "cout << cars.size(); //size of a set\n",
    "cout << cars.empty(); //chech is size is empty or not\n",
    "```"
   ]
  },
  {
   "cell_type": "markdown",
   "id": "45f4fc00-56f0-4f90-8e4b-2f6db2492431",
   "metadata": {},
   "source": [
    "### Map: \n",
    "Stores elements in \"key/value\" pairs. Accessible by keys (not by index).Automatically sorted in ascending order by their keys.\n",
    "```\n",
    "#include <map>// Include the map library\n",
    "map<keytype, valuetype> mapName\n",
    "map<string, int> people = { {\"John\", 32}, {\"Adele\", 45}, {\"Bo\", 29} };\n",
    "cout << people[\"John\"]//access the value\n",
    "cout << people.at(\"Adele\")//access the value\n",
    "people[\"John\"] = 50; //change the value\n",
    "people.at(\"John\") = 50;//change the value\n",
    "people[\"Jenny\"] = 22;// Add new elements\n",
    "people.insert({\"Jenny\", 22});// Add new elements\n",
    "people.erase(\"John\");// Remove an element by key\n",
    "people.clear();// Remove all elements\n",
    "cout << people.size(); //size of a map\n",
    "cout << people.empty();//check is map is empty or not\n",
    "cout << people.count(\"John\"); /check if a specific element exists\n",
    "map<keytype, valuetype, greater<keytype>> name= {};//to reverse the order.\n",
    "```"
   ]
  },
  {
   "cell_type": "markdown",
   "id": "53f3670d-1598-4421-be9c-93fb25134e5d",
   "metadata": {},
   "source": [
    "### ITERATOR\n",
    "Iterators are used to access and iterate through elements of data structures (vectors, sets, etc.), by \"pointing\" to them.It is the technical term of looping.\n",
    "\n",
    "* begin() returns an iterator that points to the first element of the data structure.\n",
    "* end() returns an iterator that points to one position after the last element.\n",
    "* To iterate in reverse order, you can use rbegin() and rend() instead of begin() and end():\n",
    "\n",
    "**Note:** You can itarete through vector,list,deque,map,set but not stacks and queues."
   ]
  },
  {
   "cell_type": "code",
   "execution_count": 5,
   "id": "ee344ebf-d645-44cf-aa2f-7eef765252cb",
   "metadata": {},
   "outputs": [
    {
     "name": "stdout",
     "output_type": "stream",
     "text": [
      "Volvo\n",
      "BMW\n",
      "Ford\n",
      "Mazda\n"
     ]
    },
    {
     "data": {
      "text/plain": [
       "@0x7f1ea0ada078"
      ]
     },
     "execution_count": 5,
     "metadata": {},
     "output_type": "execute_result"
    }
   ],
   "source": [
    "// Create a vector called cars that will store strings\n",
    "vector<string> carss = {\"Volvo\", \"BMW\", \"Ford\", \"Mazda\"};\n",
    "\n",
    "// Create a vector iterator called it\n",
    "vector<string>::iterator it;\n",
    "\n",
    "// Loop through the vector with the iterator\n",
    "for (it = carss.begin(); it != carss.end(); ++it) {\n",
    "  cout << *it << \"\\n\";\n",
    "}\n",
    "\n",
    "it = carss.begin();//Point to the first element\n",
    "it = carss.begin() + 1;// Point to the second element\n",
    "it = carss.end() - 1;// Point to the last element"
   ]
  },
  {
   "cell_type": "markdown",
   "id": "12b228ac-3ef9-4d86-a885-9edbfcd842b1",
   "metadata": {},
   "source": [
    "* auto keyword allows compiler to automatically determine the correct data type\n",
    "  ```\n",
    "  vector<string>::iterator it = cars.begin(); ==> auto it = cars.begin();\n",
    "\n",
    "  //can be used in for too\n",
    "  for (auto it = cars.begin(); it != cars.end(); ++it) {\n",
    "  cout << *it << \"\\n\";\n",
    "  }\n",
    "  ```\n",
    "\n",
    "**NOTE:** When you are just reading the elements and don't need to modify them for loop is simpler. However, when you need to modify you should use iterators."
   ]
  },
  {
   "cell_type": "markdown",
   "id": "f3698505-e5b3-4a22-88d6-c8804bda949d",
   "metadata": {},
   "source": [
    "### ALGORITHMS\n",
    "Algorithms are used to solve problems by sorting, searching, and manipulating data structures.\n",
    "https://www.w3schools.com/cpp/cpp_ref_algorithm.asp\n"
   ]
  },
  {
   "cell_type": "markdown",
   "id": "f956a2c6-9a0f-45a1-9868-378b4edefdc7",
   "metadata": {},
   "source": [
    "#### Sorting\n",
    "The sort() function takes iterators (typically a start iterator returned by begin() and an end iterator returned by end()) as parameters.\n",
    "\n",
    "If it is string it is sorted in alphabetical order, if it is numbers it will be sorted numerically.\n",
    "\n",
    "To reverse order rbegin() and rend() can be used."
   ]
  },
  {
   "cell_type": "code",
   "execution_count": 6,
   "id": "637a0116-5474-45eb-81b2-7a350413d0f2",
   "metadata": {},
   "outputs": [
    {
     "name": "stdout",
     "output_type": "stream",
     "text": [
      "BMW\n",
      "Ford\n",
      "Mazda\n",
      "Volvo\n"
     ]
    }
   ],
   "source": [
    "#include <algorithm>  // Include the <algorithm> library\n",
    "vector<string> carsa = {\"Volvo\", \"BMW\", \"Ford\", \"Mazda\"};\n",
    "sort(carsa.begin(), carsa.end());// Sort cars in alphabetical order\n",
    "\n",
    "for (string caral : carsa) {\n",
    "    cout << caral << \"\\n\";\n",
    "  }"
   ]
  },
  {
   "cell_type": "markdown",
   "id": "c0797f24-c96d-4f05-adce-fa20ba5f6036",
   "metadata": {},
   "source": [
    "#### Searching\n",
    "To search for specific elements in a vector, you can use the find() function.\n",
    "\n",
    "It takes three parameters: start_iterator, end_iterator, value, where value is the value to search for."
   ]
  },
  {
   "cell_type": "code",
   "execution_count": 5,
   "id": "90052a1b-bee6-4871-b759-cb5f27c161a5",
   "metadata": {},
   "outputs": [
    {
     "name": "stdout",
     "output_type": "stream",
     "text": [
      "3\n",
      "7\n",
      "9"
     ]
    }
   ],
   "source": [
    "// Create a vector called numbers that will store integers\n",
    "vector<int> numbers_search = {1, 7, 3, 5, 9, 2};\n",
    "\n",
    "// Search for the number 3\n",
    "auto it1 = find(numbers_search.begin(), numbers_search.end(), 3);\n",
    "cout << *it1;\n",
    "cout << \"\\n\";\n",
    "\n",
    "// Sort the vector in ascending order\n",
    "sort(numbers_search.begin(), numbers_search.end());\n",
    "\n",
    "auto it2 = upper_bound(numbers_search.begin(), numbers_search.end(), 5);\n",
    "cout << *it2;\n",
    "cout << \"\\n\";\n",
    "//upper_bound works on sorted data structures.\n",
    "\n",
    "auto it3 = max_element(numbers_search.begin(), numbers_search.end());// Find the largest number\n",
    "cout << *it3;"
   ]
  },
  {
   "cell_type": "code",
   "execution_count": 6,
   "id": "ef9a2179-88a5-45c6-b2c7-d847006a607b",
   "metadata": {},
   "outputs": [],
   "source": [
    "// To copy elements from one vector to another, you can use the copy() function\n",
    "vector<int> numbers_copy = {1, 7, 3, 5, 9, 2};\n",
    "\n",
    "// Create a vector called copiedNumbers that should store 6 integers\n",
    "vector<int> copiedNumbers(6);\n",
    "\n",
    "// Copy elements from numbers to copiedNumbers\n",
    "copy(numbers_copy.begin(), numbers_copy.end(), copiedNumbers.begin());"
   ]
  },
  {
   "cell_type": "code",
   "execution_count": 8,
   "id": "9cc84a15-4475-4b03-86c8-ed2e815101c1",
   "metadata": {},
   "outputs": [
    {
     "name": "stdout",
     "output_type": "stream",
     "text": [
      "35\n",
      "35\n",
      "35\n",
      "35\n",
      "35\n",
      "35\n"
     ]
    }
   ],
   "source": [
    "//To fill all elements in a vector with a value, you can use the fill() function\n",
    "// Create a vector called numbers that will store 6 integers\n",
    "vector<int> numbers_fill(6);\n",
    "\n",
    "// Fill all elements in the numbers vector with the value 35\n",
    "fill(numbers_fill.begin(), numbers_fill.end(), 35);\n",
    "\n",
    "// Print all elements in the vector\n",
    "for (int num_fill : numbers_fill) {\n",
    "  cout << num_fill << \"\\n\";\n",
    "}"
   ]
  },
  {
   "cell_type": "code",
   "execution_count": null,
   "id": "65569be6-4268-48e8-a3e5-205ebcf9f270",
   "metadata": {},
   "outputs": [],
   "source": []
  }
 ],
 "metadata": {
  "kernelspec": {
   "display_name": "C++17",
   "language": "C++17",
   "name": "xcpp17"
  },
  "language_info": {
   "codemirror_mode": "text/x-c++src",
   "file_extension": ".cpp",
   "mimetype": "text/x-c++src",
   "name": "c++",
   "version": "17"
  }
 },
 "nbformat": 4,
 "nbformat_minor": 5
}
